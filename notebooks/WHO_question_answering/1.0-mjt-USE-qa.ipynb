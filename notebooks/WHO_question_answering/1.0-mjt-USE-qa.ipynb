{
 "cells": [
  {
   "cell_type": "markdown",
   "metadata": {},
   "source": [
    "# Multilingual QA search\n",
    "\n",
    "Downloads and parses several coronavirus related WHO FAQ, uses Multilingual Universal Sentence Encoder QA, to encode paragraphs or list elements\n",
    "\n",
    "USE supports 16 languages (Arabic, Chinese-simplified, Chinese-traditional, English, French, German, Italian, Japanese, Korean, Dutch, Polish, Portuguese, Spanish, Thai, Turkish, Russian)\n",
    "\n",
    "uses some code from https://github.com/wearetriple/ai-faqbot-who/blob/master/Corona_WHO_FAQ.ipynb"
   ]
  },
  {
   "cell_type": "code",
   "execution_count": 1,
   "metadata": {},
   "outputs": [],
   "source": [
    "import tensorflow as tf\n",
    "import tensorflow_hub as hub\n",
    "import tensorflow_text\n",
    "import re\n",
    "\n",
    "import requests\n",
    "from bs4 import BeautifulSoup\n",
    "\n",
    "import numpy as np\n",
    "import pandas as pd\n",
    "\n",
    "pd.set_option(\"max_colwidth\", 200)"
   ]
  },
  {
   "cell_type": "markdown",
   "metadata": {},
   "source": [
    "### Download and parse QA sites"
   ]
  },
  {
   "cell_type": "code",
   "execution_count": 2,
   "metadata": {},
   "outputs": [],
   "source": [
    "def iter_who_faq(url=\"https://www.who.int/news-room/q-a-detail/q-a-coronaviruses\"):\n",
    "    page = requests.get(url)\n",
    "    soup = BeautifulSoup(page.text, \"lxml\")\n",
    "    for panel in soup.find_all(attrs={\"class\": \"sf-accordion__panel\"}):\n",
    "        question = panel.find_all(\"a\")[0].text.strip()\n",
    "        answers = [p.text.strip() for p in panel.find_all(\"p\") if p.text.strip()] + [\n",
    "            list_element.text.strip() for list_element in panel.find_all(\"li\")\n",
    "        ]\n",
    "        if not answers:\n",
    "            print(url, question)\n",
    "        for answer in answers:\n",
    "            yield question, answer, url"
   ]
  },
  {
   "cell_type": "code",
   "execution_count": 3,
   "metadata": {},
   "outputs": [],
   "source": [
    "urls = [\n",
    "    \"https://www.who.int/news-room/q-a-detail/q-a-coronaviruses\",\n",
    "    \"https://www.who.int/news-room/q-a-detail/q-a-on-covid-19-pregnancy-childbirth-and-breastfeeding\",\n",
    "    \"https://www.who.int/news-room/q-a-detail/q-a-on-covid-19-hiv-and-antiretrovirals\",\n",
    "    \"https://www.who.int/news-room/q-a-detail/q-a-similarities-and-differences-covid-19-and-influenza\",\n",
    "    \"https://www.who.int/news-room/q-a-detail/q-a-on-mass-gatherings-and-covid-19\",\n",
    "    \"https://www.who.int/news-room/q-a-detail/q-a-on-smoking-and-covid-19\",\n",
    "    \"https://www.who.int/news-room/q-a-detail/be-active-during-covid-19\",\n",
    "    \"https://www.who.int/news-room/q-a-detail/malaria-and-the-covid-19-pandemic\",\n",
    "    \"https://www.who.int/news-room/q-a-detail/q-a-on-infection-prevention-and-control-for-health-care-workers-caring-for-patients-with-suspected-or-confirmed-2019-ncov\",\n",
    "    \"https://www.who.int/news-room/q-a-detail/middle-east-respiratory-syndrome-coronavirus-(mers-cov)\",\n",
    "]\n",
    "\n",
    "\n",
    "def iter_who_faqs(urls=urls):\n",
    "    for url in urls:\n",
    "        for out in iter_who_faq(url=url):\n",
    "            yield out"
   ]
  },
  {
   "cell_type": "code",
   "execution_count": 4,
   "metadata": {},
   "outputs": [
    {
     "name": "stdout",
     "output_type": "stream",
     "text": [
      "CPU times: user 592 ms, sys: 13.2 ms, total: 605 ms\n",
      "Wall time: 2.72 s\n"
     ]
    },
    {
     "data": {
      "text/html": [
       "<div>\n",
       "<style scoped>\n",
       "    .dataframe tbody tr th:only-of-type {\n",
       "        vertical-align: middle;\n",
       "    }\n",
       "\n",
       "    .dataframe tbody tr th {\n",
       "        vertical-align: top;\n",
       "    }\n",
       "\n",
       "    .dataframe thead th {\n",
       "        text-align: right;\n",
       "    }\n",
       "</style>\n",
       "<table border=\"1\" class=\"dataframe\">\n",
       "  <thead>\n",
       "    <tr style=\"text-align: right;\">\n",
       "      <th></th>\n",
       "      <th>Context</th>\n",
       "      <th>Answer</th>\n",
       "      <th>Source</th>\n",
       "    </tr>\n",
       "  </thead>\n",
       "  <tbody>\n",
       "    <tr>\n",
       "      <th>0</th>\n",
       "      <td>What is a coronavirus?</td>\n",
       "      <td>Coronaviruses are a large family of viruses which may cause illness in animals or humans.  In humans, several coronaviruses are known to cause respiratory infections ranging from the common cold t...</td>\n",
       "      <td>https://www.who.int/news-room/q-a-detail/q-a-coronaviruses</td>\n",
       "    </tr>\n",
       "    <tr>\n",
       "      <th>1</th>\n",
       "      <td>What is COVID-19?</td>\n",
       "      <td>COVID-19 is the infectious disease caused by the most recently discovered coronavirus. This new virus and disease were unknown before the outbreak began in Wuhan, China, in December 2019.</td>\n",
       "      <td>https://www.who.int/news-room/q-a-detail/q-a-coronaviruses</td>\n",
       "    </tr>\n",
       "    <tr>\n",
       "      <th>2</th>\n",
       "      <td>What are the symptoms of COVID-19?</td>\n",
       "      <td>The most common symptoms of COVID-19 are fever, tiredness, and dry cough. Some patients may have aches and pains, nasal congestion, runny nose, sore throat or diarrhea. These symptoms are usually ...</td>\n",
       "      <td>https://www.who.int/news-room/q-a-detail/q-a-coronaviruses</td>\n",
       "    </tr>\n",
       "    <tr>\n",
       "      <th>3</th>\n",
       "      <td>How does COVID-19 spread?</td>\n",
       "      <td>People can catch COVID-19 from others who have the virus. The disease can spread from person to person through small droplets from the nose or mouth which are spread when a person with COVID-19 co...</td>\n",
       "      <td>https://www.who.int/news-room/q-a-detail/q-a-coronaviruses</td>\n",
       "    </tr>\n",
       "    <tr>\n",
       "      <th>4</th>\n",
       "      <td>How does COVID-19 spread?</td>\n",
       "      <td>WHO is assessing ongoing research on the ways COVID-19 is spread and will continue to share updated findings.</td>\n",
       "      <td>https://www.who.int/news-room/q-a-detail/q-a-coronaviruses</td>\n",
       "    </tr>\n",
       "  </tbody>\n",
       "</table>\n",
       "</div>"
      ],
      "text/plain": [
       "                              Context  \\\n",
       "0              What is a coronavirus?   \n",
       "1                   What is COVID-19?   \n",
       "2  What are the symptoms of COVID-19?   \n",
       "3           How does COVID-19 spread?   \n",
       "4           How does COVID-19 spread?   \n",
       "\n",
       "                                                                                                                                                                                                    Answer  \\\n",
       "0  Coronaviruses are a large family of viruses which may cause illness in animals or humans.  In humans, several coronaviruses are known to cause respiratory infections ranging from the common cold t...   \n",
       "1              COVID-19 is the infectious disease caused by the most recently discovered coronavirus. This new virus and disease were unknown before the outbreak began in Wuhan, China, in December 2019.   \n",
       "2  The most common symptoms of COVID-19 are fever, tiredness, and dry cough. Some patients may have aches and pains, nasal congestion, runny nose, sore throat or diarrhea. These symptoms are usually ...   \n",
       "3  People can catch COVID-19 from others who have the virus. The disease can spread from person to person through small droplets from the nose or mouth which are spread when a person with COVID-19 co...   \n",
       "4                                                                                            WHO is assessing ongoing research on the ways COVID-19 is spread and will continue to share updated findings.   \n",
       "\n",
       "                                                       Source  \n",
       "0  https://www.who.int/news-room/q-a-detail/q-a-coronaviruses  \n",
       "1  https://www.who.int/news-room/q-a-detail/q-a-coronaviruses  \n",
       "2  https://www.who.int/news-room/q-a-detail/q-a-coronaviruses  \n",
       "3  https://www.who.int/news-room/q-a-detail/q-a-coronaviruses  \n",
       "4  https://www.who.int/news-room/q-a-detail/q-a-coronaviruses  "
      ]
     },
     "execution_count": 4,
     "metadata": {},
     "output_type": "execute_result"
    }
   ],
   "source": [
    "%%time\n",
    "data = pd.DataFrame(data=list(iter_who_faqs()), columns=[\"Context\", \"Answer\", \"Source\"])\n",
    "data.head()"
   ]
  },
  {
   "cell_type": "markdown",
   "metadata": {},
   "source": [
    "### Preprocess Sentences\n",
    "because USE has never seen covid or covid-19 but has seen coronavirus"
   ]
  },
  {
   "cell_type": "code",
   "execution_count": 5,
   "metadata": {},
   "outputs": [
    {
     "name": "stdout",
     "output_type": "stream",
     "text": [
      "CPU times: user 9.46 s, sys: 841 ms, total: 10.3 s\n",
      "Wall time: 10.1 s\n"
     ]
    }
   ],
   "source": [
    "%%time\n",
    "def preprocess_sentences(input_sentences):\n",
    "    return [\n",
    "        re.sub(r\"(covid-19|covid)\", \"coronavirus\", input_sentence, flags=re.I)\n",
    "        for input_sentence in input_sentences\n",
    "    ]\n",
    "\n",
    "\n",
    "# Load module containing USE\n",
    "module = hub.load(\n",
    "    \"https://tfhub.dev/google/universal-sentence-encoder-multilingual-qa/3\"\n",
    ")"
   ]
  },
  {
   "cell_type": "code",
   "execution_count": 6,
   "metadata": {},
   "outputs": [
    {
     "name": "stdout",
     "output_type": "stream",
     "text": [
      "CPU times: user 44.2 s, sys: 8.15 s, total: 52.3 s\n",
      "Wall time: 15.2 s\n"
     ]
    }
   ],
   "source": [
    "%%time\n",
    "# Create response embeddings\n",
    "response_encodings = module.signatures[\"response_encoder\"](\n",
    "    input=tf.constant(preprocess_sentences(data.Answer)),\n",
    "    context=tf.constant(preprocess_sentences(data.Context)),\n",
    ")[\"outputs\"]"
   ]
  },
  {
   "cell_type": "markdown",
   "metadata": {},
   "source": [
    "### And test some new questions..."
   ]
  },
  {
   "cell_type": "code",
   "execution_count": 7,
   "metadata": {},
   "outputs": [
    {
     "name": "stdout",
     "output_type": "stream",
     "text": [
      "CPU times: user 1.77 s, sys: 37 ms, total: 1.81 s\n",
      "Wall time: 1.68 s\n"
     ]
    },
    {
     "data": {
      "text/html": [
       "<div>\n",
       "<style scoped>\n",
       "    .dataframe tbody tr th:only-of-type {\n",
       "        vertical-align: middle;\n",
       "    }\n",
       "\n",
       "    .dataframe tbody tr th {\n",
       "        vertical-align: top;\n",
       "    }\n",
       "\n",
       "    .dataframe thead th {\n",
       "        text-align: right;\n",
       "    }\n",
       "</style>\n",
       "<table border=\"1\" class=\"dataframe\">\n",
       "  <thead>\n",
       "    <tr style=\"text-align: right;\">\n",
       "      <th></th>\n",
       "      <th>Test Questions</th>\n",
       "      <th>Test Responses</th>\n",
       "      <th>Test Sources</th>\n",
       "    </tr>\n",
       "  </thead>\n",
       "  <tbody>\n",
       "    <tr>\n",
       "      <th>80</th>\n",
       "      <td>What about pregnant women?</td>\n",
       "      <td>All pregnant women, including those with confirmed or suspected COVID-19 infections, have the right to high quality care before, during and after childbirth. This includes antenatal, newborn, post...</td>\n",
       "      <td>https://www.who.int/news-room/q-a-detail/q-a-on-covid-19-pregnancy-childbirth-and-breastfeeding</td>\n",
       "    </tr>\n",
       "    <tr>\n",
       "      <th>45</th>\n",
       "      <td>Wat is de lengte van de incubatietijd?</td>\n",
       "      <td>The “incubation period” means the time between catching the virus and beginning to have symptoms of the disease. Most estimates of the incubation period for COVID-19 range from 1-14 days, most com...</td>\n",
       "      <td>https://www.who.int/news-room/q-a-detail/q-a-coronaviruses</td>\n",
       "    </tr>\n",
       "    <tr>\n",
       "      <th>46</th>\n",
       "      <td>Are animals contagious COVID-19?</td>\n",
       "      <td>Coronaviruses are a large family of viruses that are common in animals. Occasionally, people get infected with these viruses which may then spread to other people. For example, SARS-CoV was associ...</td>\n",
       "      <td>https://www.who.int/news-room/q-a-detail/q-a-coronaviruses</td>\n",
       "    </tr>\n",
       "    <tr>\n",
       "      <th>27</th>\n",
       "      <td>Are there medicine against the coronavirus?</td>\n",
       "      <td>While some western, traditional or home remedies may provide comfort and alleviate symptoms of COVID-19, there is no evidence that current medicine can prevent or cure the disease. WHO does not re...</td>\n",
       "      <td>https://www.who.int/news-room/q-a-detail/q-a-coronaviruses</td>\n",
       "    </tr>\n",
       "    <tr>\n",
       "      <th>90</th>\n",
       "      <td>Can I breastfead when I have COVID-19?</td>\n",
       "      <td>Yes. Women with COVID-19 can breastfeed if they wish to do so. They should:</td>\n",
       "      <td>https://www.who.int/news-room/q-a-detail/q-a-on-covid-19-pregnancy-childbirth-and-breastfeeding</td>\n",
       "    </tr>\n",
       "    <tr>\n",
       "      <th>14</th>\n",
       "      <td>Should I stay inside the house?</td>\n",
       "      <td>Stay home if you feel unwell. If you have a fever, cough and difficulty breathing, seek medical attention and call in advance. Follow the directions of your local health authority.Why? National an...</td>\n",
       "      <td>https://www.who.int/news-room/q-a-detail/q-a-coronaviruses</td>\n",
       "    </tr>\n",
       "    <tr>\n",
       "      <th>49</th>\n",
       "      <td>Kann ich mit meinem Hund spazieren gehen?</td>\n",
       "      <td>As the intergovernmental body responsible for improving animal health      worldwide, the World Organisation for Animal Health (OIE) has been developing technical      guidance on specialised topi...</td>\n",
       "      <td>https://www.who.int/news-room/q-a-detail/q-a-coronaviruses</td>\n",
       "    </tr>\n",
       "  </tbody>\n",
       "</table>\n",
       "</div>"
      ],
      "text/plain": [
       "                                 Test Questions  \\\n",
       "80                   What about pregnant women?   \n",
       "45       Wat is de lengte van de incubatietijd?   \n",
       "46             Are animals contagious COVID-19?   \n",
       "27  Are there medicine against the coronavirus?   \n",
       "90       Can I breastfead when I have COVID-19?   \n",
       "14              Should I stay inside the house?   \n",
       "49    Kann ich mit meinem Hund spazieren gehen?   \n",
       "\n",
       "                                                                                                                                                                                             Test Responses  \\\n",
       "80  All pregnant women, including those with confirmed or suspected COVID-19 infections, have the right to high quality care before, during and after childbirth. This includes antenatal, newborn, post...   \n",
       "45  The “incubation period” means the time between catching the virus and beginning to have symptoms of the disease. Most estimates of the incubation period for COVID-19 range from 1-14 days, most com...   \n",
       "46  Coronaviruses are a large family of viruses that are common in animals. Occasionally, people get infected with these viruses which may then spread to other people. For example, SARS-CoV was associ...   \n",
       "27  While some western, traditional or home remedies may provide comfort and alleviate symptoms of COVID-19, there is no evidence that current medicine can prevent or cure the disease. WHO does not re...   \n",
       "90                                                                                                                              Yes. Women with COVID-19 can breastfeed if they wish to do so. They should:   \n",
       "14  Stay home if you feel unwell. If you have a fever, cough and difficulty breathing, seek medical attention and call in advance. Follow the directions of your local health authority.Why? National an...   \n",
       "49  As the intergovernmental body responsible for improving animal health      worldwide, the World Organisation for Animal Health (OIE) has been developing technical      guidance on specialised topi...   \n",
       "\n",
       "                                                                                       Test Sources  \n",
       "80  https://www.who.int/news-room/q-a-detail/q-a-on-covid-19-pregnancy-childbirth-and-breastfeeding  \n",
       "45                                       https://www.who.int/news-room/q-a-detail/q-a-coronaviruses  \n",
       "46                                       https://www.who.int/news-room/q-a-detail/q-a-coronaviruses  \n",
       "27                                       https://www.who.int/news-room/q-a-detail/q-a-coronaviruses  \n",
       "90  https://www.who.int/news-room/q-a-detail/q-a-on-covid-19-pregnancy-childbirth-and-breastfeeding  \n",
       "14                                       https://www.who.int/news-room/q-a-detail/q-a-coronaviruses  \n",
       "49                                       https://www.who.int/news-room/q-a-detail/q-a-coronaviruses  "
      ]
     },
     "execution_count": 7,
     "metadata": {},
     "output_type": "execute_result"
    }
   ],
   "source": [
    "%%time\n",
    "test_questions = [\n",
    "    \"What about pregnant women?\",\n",
    "    \"Wat is de lengte van de incubatietijd?\",\n",
    "    \"Are animals contagious COVID-19?\",\n",
    "    \"Are there medicine against the coronavirus?\",\n",
    "    \"Can I breastfead when I have COVID-19?\",\n",
    "    \"Should I stay inside the house?\",  # English questions are also possible.\n",
    "    \"Kann ich mit meinem Hund spazieren gehen?\",  # As well as German, and all the other languages supported by use-multilingual.\n",
    "]\n",
    "\n",
    "# Create encodings for test questions\n",
    "question_encodings = module.signatures[\"question_encoder\"](\n",
    "    tf.constant(preprocess_sentences(test_questions))\n",
    ")[\"outputs\"]\n",
    "\n",
    "# Get the responses\n",
    "test_responses = data.loc[\n",
    "    np.argmax(np.inner(question_encodings, response_encodings), axis=1),\n",
    "    [\"Answer\", \"Source\"],\n",
    "]\n",
    "\n",
    "# Show them in a dataframe\n",
    "pd.DataFrame(\n",
    "    {\n",
    "        \"Test Questions\": test_questions,\n",
    "        \"Test Responses\": test_responses[\"Answer\"],\n",
    "        \"Test Sources\": test_responses[\"Source\"],\n",
    "    }\n",
    ")"
   ]
  },
  {
   "cell_type": "code",
   "execution_count": 8,
   "metadata": {},
   "outputs": [],
   "source": [
    "from timeit import default_timer as timer"
   ]
  },
  {
   "cell_type": "code",
   "execution_count": 9,
   "metadata": {},
   "outputs": [
    {
     "name": "stdin",
     "output_type": "stream",
     "text": [
      " Does smoking make it easier to get COVID19?\n"
     ]
    },
    {
     "name": "stdout",
     "output_type": "stream",
     "text": [
      "Smokers are likely to be more vulnerable to COVID-19 as the act of smoking means that fingers (and possibly contaminated cigarettes) are in contact with lips which increases the possibility of transmission of virus from hand to mouth. Smokers may also already have lung disease or reduced lung capacity which would greatly increase risk of serious illness.\n",
      "This response was gathered from:\n",
      "https://www.who.int/news-room/q-a-detail/q-a-on-smoking-and-covid-19\n",
      "This query took 0.04099278151988983 seconds\n"
     ]
    }
   ],
   "source": [
    "question = input()\n",
    "start = timer()\n",
    "question_encoding = module.signatures[\"question_encoder\"](\n",
    "    tf.constant(preprocess_sentences([question]))\n",
    ")[\"outputs\"]\n",
    "test_response = data.loc[\n",
    "    np.argmax(np.inner(question_encoding, response_encodings), axis=1),\n",
    "    [\"Answer\", \"Source\"],\n",
    "]\n",
    "end = timer()\n",
    "print(test_response[\"Answer\"].values[0])\n",
    "print(\"This response was gathered from:\")\n",
    "print(test_response[\"Source\"].values[0])\n",
    "print(\"This query took {} seconds\".format(end - start))"
   ]
  }
 ],
 "metadata": {
  "kernelspec": {
   "display_name": "tf hub",
   "language": "python",
   "name": "tfhub"
  },
  "language_info": {
   "codemirror_mode": {
    "name": "ipython",
    "version": 3
   },
   "file_extension": ".py",
   "mimetype": "text/x-python",
   "name": "python",
   "nbconvert_exporter": "python",
   "pygments_lexer": "ipython3",
   "version": "3.6.8"
  }
 },
 "nbformat": 4,
 "nbformat_minor": 4
}
